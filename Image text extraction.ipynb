{
 "cells": [
  {
   "cell_type": "markdown",
   "id": "df20d5a6",
   "metadata": {},
   "source": [
    "# EasyOCR License Images Extraction"
   ]
  },
  {
   "cell_type": "code",
   "execution_count": 5,
   "id": "f156258a",
   "metadata": {},
   "outputs": [
    {
     "name": "stderr",
     "output_type": "stream",
     "text": [
      "CUDA not available - defaulting to CPU. Note: This module is much faster with a GPU.\n"
     ]
    }
   ],
   "source": [
    "import os\n",
    "import easyocr\n",
    "import cv2\n",
    "reader = easyocr.Reader([\"en\"])"
   ]
  },
  {
   "cell_type": "markdown",
   "id": "64401453",
   "metadata": {},
   "source": [
    "## For Single Image"
   ]
  },
  {
   "cell_type": "code",
   "execution_count": 3,
   "id": "9a529712",
   "metadata": {},
   "outputs": [],
   "source": [
    "img = cv2.imread(\"Arkansas.jpg\")\n",
    "#reader = easyocr.Reader([\"en\"])\n",
    "result = reader.readtext(img,paragraph=False)\n",
    "#print(result)\n",
    "for (bbox,text,prob) in result:\n",
    "    (t1,tr,br,b1) = bbox\n",
    "\n",
    "    t1 = (int(t1[0]), int(t1[1]))\n",
    "    tr = (int(tr[0]), int(tr[1]))\n",
    "    br = (int(br[0]), int(br[0]))\n",
    "    b1 = (int(b1[0]), int(b1[1]))\n",
    "\n",
    "    text = \"\".join([c if ord(c) < 128 else \"\" for c in text]).strip()\n",
    "    cv2.rectangle(img,tr,b1,(0,255,0),2)\n",
    "    cv2.putText(img,text,(b1[0],b1[1]-20),cv2.FONT_HERSHEY_SIMPLEX,0.4,(250,0,0),2)\n",
    "    #img1 = cv2.cvtColor(img,cv2.COLOR_GRAY2BGR)\n",
    "\n",
    "cv2.imshow(\"image\",img)\n",
    "cv2.waitKey(0)\n",
    "cv2.destroyAllWindows()"
   ]
  },
  {
   "cell_type": "code",
   "execution_count": 7,
   "id": "da0b1ab6",
   "metadata": {},
   "outputs": [],
   "source": [
    "img1 = cv2.imread(\"Arkansas.jpg\")\n",
    "# gray = cv2.cvtColor(img1, cv2.COLOR_BGR2GRAY)\n",
    "# blur = cv2.GaussianBlur(gray, (3,3),0)\n",
    "\n",
    "\n",
    "img_num = 1\n",
    "\n",
    "dst = cv2.fastNlMeansDenoisingColored(img1,None,6,6,7,21)\n",
    "#cv2.imshow(\"Fast means Denoising\",dst)\n",
    "\n",
    "# # apply morphology\n",
    "# kernel = cv2.getStructuringElement(cv2.MORPH_RECT, (3,3))\n",
    "# morph = cv2.morphologyEx(thresh, cv2.MORPH_CLOSE, kernel)\n",
    "\n",
    "result = reader.readtext(dst,paragraph=False)\n",
    "#print(result)\n",
    "for (bbox,text,prob) in result:\n",
    "    (t1,tr,br,b1) = bbox\n",
    "\n",
    "    t1 = (int(t1[0]), int(t1[1]))\n",
    "    tr = (int(tr[0]), int(tr[1]))\n",
    "    br = (int(br[0]), int(br[0]))\n",
    "    b1 = (int(b1[0]), int(b1[1]))\n",
    "\n",
    "    text = \"\".join([c if ord(c) < 128 else \"\" for c in text]).strip()\n",
    "#     img_scaled = cv2.resize(img,None,fx = 2,fy = 2,interpolation=cv2.INTER_CUBIC)\n",
    "#     cv2.imshow(\"scaling_Cubic interpolation\",img_scaled)\n",
    "\n",
    "    cv2.rectangle(img1,tr,b1,(0,255,0),2)\n",
    "    cv2.putText(img1,text,(b1[0],b1[1]-20),cv2.FONT_HERSHEY_SIMPLEX,0.4,(250,0,0),1,cv2.LINE_AA,False)\n",
    "    #cv2.imwrite(os.path.join(out_path,\"Partial_Output_img_num.png\"),img)\n",
    "    \n",
    "cv2.imshow(\"real\",img)\n",
    "cv2.imshow(\"image\",img1)\n",
    "cv2.waitKey(0)\n",
    "cv2.destroyAllWindows()\n"
   ]
  },
  {
   "cell_type": "markdown",
   "id": "2cf42b4b",
   "metadata": {},
   "source": [
    "## All Files"
   ]
  },
  {
   "cell_type": "code",
   "execution_count": 21,
   "id": "d52db12a",
   "metadata": {},
   "outputs": [
    {
     "name": "stderr",
     "output_type": "stream",
     "text": [
      "CUDA not available - defaulting to CPU. Note: This module is much faster with a GPU.\n"
     ]
    }
   ],
   "source": [
    "import glob\n",
    "import easyocr\n",
    "import cv2\n",
    "import os\n",
    "\n",
    "path = \"/home/robin/Desktop/assignment/License Images/*.*\"\n",
    "new_reader = easyocr.Reader([\"en\"])\n",
    "\n",
    "\n",
    "for i,file in enumerate(glob.glob(path)):\n",
    "    img = cv2.imread(file)\n",
    "    dst = cv2.fastNlMeansDenoisingColored(img,None,6,6,7,21)\n",
    "    results = new_reader.readtext(img,paragraph=False)\n",
    "    #print(results)\n",
    "    for (bbox,text,prob) in results:\n",
    "        (t1,tr,br,b1) = bbox\n",
    "\n",
    "        t1 = (int(t1[0]), int(t1[1]))\n",
    "        tr = (int(tr[0]), int(tr[1]))\n",
    "        br = (int(br[0]), int(br[0]))\n",
    "        b1 = (int(b1[0]), int(b1[1]))\n",
    "\n",
    "        text = \"\".join([c if ord(c) < 128 else \"\" for c in text]).strip()\n",
    "        cv2.rectangle(img, tr, b1, (0, 255, 0), 2)\n",
    "        cv2.putText(img, text, (t1[0], t1[1] - 15), cv2.FONT_HERSHEY_SIMPLEX, 0.4, (250, 0, 0),1,cv2.LINE_AA,False)\n",
    "        \n",
    "\n",
    "        #cv2.imwrite(os.path.join(out_path,\"Partial_Output.png\"),img)\n",
    "    cv2.imwrite(f'/home/robin/Desktop/assignment/efg/Partial_Output_{i}.png',img)\n",
    "    #cv2.imshow(\"imgaes\",img)\n",
    "    cv2.waitKey(0)\n",
    "    cv2.destroyAllWindows()"
   ]
  },
  {
   "cell_type": "code",
   "execution_count": null,
   "id": "40ad8570",
   "metadata": {},
   "outputs": [],
   "source": []
  }
 ],
 "metadata": {
  "kernelspec": {
   "display_name": "python3.7_env",
   "language": "python",
   "name": "python3.7_env"
  },
  "language_info": {
   "codemirror_mode": {
    "name": "ipython",
    "version": 3
   },
   "file_extension": ".py",
   "mimetype": "text/x-python",
   "name": "python",
   "nbconvert_exporter": "python",
   "pygments_lexer": "ipython3",
   "version": "3.8.10"
  }
 },
 "nbformat": 4,
 "nbformat_minor": 5
}
