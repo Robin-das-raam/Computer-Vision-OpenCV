{
 "cells": [
  {
   "cell_type": "code",
   "execution_count": 1,
   "metadata": {},
   "outputs": [],
   "source": [
    "import numpy as np\n",
    "import cv2\n",
    "import matplotlib.pyplot as plt"
   ]
  },
  {
   "cell_type": "markdown",
   "metadata": {},
   "source": [
    "# Image Translation"
   ]
  },
  {
   "cell_type": "code",
   "execution_count": 5,
   "metadata": {},
   "outputs": [],
   "source": [
    "img = cv2.imread('xy.jpg')\n",
    "\n",
    "height,width = img.shape[:2]\n",
    "\n",
    "new_height,new_width = height/8, width/8\n",
    "\n",
    "# T is translation matrix \n",
    "T = np.float32([[1,0,new_height],[0,1,new_width]])\n",
    "T\n",
    "\n",
    "img_translation = cv2.warpAffine(img,T,(width,height))\n",
    "cv2.imshow(\"img_translation\",img_translation)\n",
    "cv2.waitKey()\n",
    "cv2.destroyAllWindows()"
   ]
  },
  {
   "cell_type": "code",
   "execution_count": 7,
   "metadata": {},
   "outputs": [],
   "source": [
    "image = cv2.imread(\"Trump.jpg\")\n",
    "\n",
    "height,width = image.shape[:2]\n",
    "\n",
    "new_h,new_w = height/12,width/12\n",
    "\n",
    "T = np.float32([[1,0,new_h],[0,1,new_w]])\n",
    "\n",
    "image_translation = cv2.warpAffine(image,T,(width,height))\n",
    "cv2.imshow(\"image translation\",image_translation)\n",
    "cv2.waitKey()\n",
    "cv2.destroyAllWindows()"
   ]
  },
  {
   "cell_type": "markdown",
   "metadata": {},
   "source": [
    "# Image Rotation\n",
    "\n",
    "### cv2.getRotationMatrix2D(rotation_center_x,rotation_center_y, angle,scale)\n",
    "### cv2.warpAffine(image,rotationmatrix,(width,height)"
   ]
  },
  {
   "cell_type": "code",
   "execution_count": 9,
   "metadata": {},
   "outputs": [],
   "source": [
    "img = cv2.imread('xy.jpg')\n",
    "\n",
    "height,width = img.shape[:2]\n",
    "\n",
    "rota_matrix = cv2.getRotationMatrix2D((width/2,height/2),75,.2)\n",
    "rota_img = cv2.warpAffine(img,rota_matrix,(width,height))\n",
    "cv2.imshow('Rotation_img',rota_img)\n",
    "cv2.waitKey()\n",
    "cv2.destroyAllWindows()"
   ]
  },
  {
   "cell_type": "code",
   "execution_count": 11,
   "metadata": {},
   "outputs": [],
   "source": [
    "img = cv2.imread('Trump.jpg')\n",
    "\n",
    "height,width = img.shape[:2]\n",
    "\n",
    "rota_matrix = cv2.getRotationMatrix2D((width/2,height/2),145,.5)\n",
    "rota_img = cv2.warpAffine(img,rota_matrix,(width,height))\n",
    "cv2.imshow('Rotation_img',rota_img)\n",
    "cv2.waitKey()\n",
    "cv2.destroyAllWindows()"
   ]
  },
  {
   "cell_type": "markdown",
   "metadata": {},
   "source": [
    "# Image scaling\n",
    "### cv2.resize(image,dsize(output image size),x_scale,y_scale,interpolation)"
   ]
  },
  {
   "cell_type": "code",
   "execution_count": 12,
   "metadata": {},
   "outputs": [],
   "source": [
    "img = cv2.imread(\"Trump.jpg\")\n",
    "\n",
    "##lets make our image size 3/4 of its origial size\n",
    "img_scaled = cv2.resize(img,None,fx = 0.75,fy = 0.75)\n",
    "cv2.imshow(\"scaling_linear interpolation\",img_scaled)\n",
    "cv2.waitKey()\n",
    "cv2.destroyAllWindows()"
   ]
  },
  {
   "cell_type": "code",
   "execution_count": 14,
   "metadata": {},
   "outputs": [],
   "source": [
    "##lets make our image size 2 of its origial size\n",
    "img_scaled = cv2.resize(img,None,fx = 2,fy = 2,interpolation=cv2.INTER_CUBIC)\n",
    "cv2.imshow(\"scaling_Cubic interpolation\",img_scaled)\n",
    "cv2.waitKey()\n",
    "cv2.destroyAllWindows()\n"
   ]
  },
  {
   "cell_type": "code",
   "execution_count": 8,
   "metadata": {},
   "outputs": [],
   "source": [
    "img1 = cv2.imread(\"xy.jpg\")\n",
    "\n",
    "#img_scaled = cv2.resize(img1,None,fx = 1.5,fy = 1.5,interpolation=cv2.INTER_CUBIC)\n",
    "img_scaled = cv2.resize(img1,(400,400),interpolation = cv2.INTER_CUBIC)\n",
    "cv2.imshow(\"scaling_Cubic interpolation\",img_scaled)\n",
    "cv2.waitKey()\n",
    "cv2.destroyAllWindows()\n"
   ]
  },
  {
   "cell_type": "code",
   "execution_count": 6,
   "metadata": {},
   "outputs": [],
   "source": [
    "##lets skew the re sizeing by getting the exact dimension\n",
    "image_scaled = cv2.resize(img,(400,400),interpolation = cv2.INTER_AREA)\n",
    "cv2.imshow(\"scaling -SKwed size\",image_scaled)\n",
    "cv2.waitKey()\n",
    "cv2.destroyAllWindows()"
   ]
  },
  {
   "cell_type": "code",
   "execution_count": 26,
   "metadata": {},
   "outputs": [],
   "source": [
    "an_img = cv2.imread('Shapes.jpg')\n",
    "img_scale = cv2.resize(an_img,None,fx = 1,fy = 1.5,interpolation = cv2.INTER_AREA)\n",
    "cv2.imshow(\"scaling\",img_scale)\n",
    "cv2.waitKey()\n",
    "cv2.destroyAllWindows()\n",
    "\n",
    "im_scale = cv2.resize(an_img,(600,600),interpolation = cv2.INTER_CUBIC)\n",
    "cv2.imshow(\"scaling_img\",im_scale)\n",
    "cv2.waitKey()\n",
    "cv2.destroyAllWindows()"
   ]
  },
  {
   "cell_type": "markdown",
   "metadata": {},
   "source": [
    "# Image Pyramid"
   ]
  },
  {
   "cell_type": "code",
   "execution_count": 23,
   "metadata": {},
   "outputs": [],
   "source": [
    "img = cv2.imread('xy.jpg')\n",
    "\n",
    "smaller = cv2.pyrDown(img)\n",
    "bigger = cv2.pyrUp(img)\n",
    "\n",
    "cv2.imshow(\"original image\",img)\n",
    "cv2.imshow(\"smaller image\",smaller)\n",
    "cv2.imshow(\"bigger image\",bigger)\n",
    "\n",
    "cv2.waitKey()\n",
    "cv2.destroyAllWindows()"
   ]
  },
  {
   "cell_type": "code",
   "execution_count": 24,
   "metadata": {},
   "outputs": [],
   "source": [
    "img = cv2.imread('Trump.jpg')\n",
    "\n",
    "smaller = cv2.pyrDown(img)\n",
    "bigger = cv2.pyrUp(img)\n",
    "\n",
    "cv2.imshow(\"original image\",img)\n",
    "cv2.imshow(\"smaller image\",smaller)\n",
    "cv2.imshow(\"bigger image\",bigger)\n",
    "\n",
    "cv2.waitKey()\n",
    "cv2.destroyAllWindows()"
   ]
  },
  {
   "cell_type": "markdown",
   "metadata": {},
   "source": [
    "# Cropping"
   ]
  },
  {
   "cell_type": "code",
   "execution_count": 27,
   "metadata": {},
   "outputs": [],
   "source": [
    "img = cv2.imread('xy.jpg')\n",
    "\n",
    "height,width = img.shape[:2]\n",
    "\n",
    "start_row,start_col = int(height*.25),int(width*.25)\n",
    "end_row,end_col = int(height*.75),int(width*.75)\n",
    "\n",
    "cropped = img[start_row:end_row,start_col:end_col]\n",
    "\n",
    "cv2.imshow(\"original image\",img)\n",
    "cv2.waitKey(0)\n",
    "cv2.imshow(\"cropped\",cropped)\n",
    "cv2.waitKey(0)\n",
    "cv2.destroyAllWindows()"
   ]
  },
  {
   "cell_type": "code",
   "execution_count": 30,
   "metadata": {},
   "outputs": [],
   "source": [
    "img1 = cv2.imread(\"Trump.jpg\")\n",
    "height,width = img.shape[:2]\n",
    "\n",
    "start_row,start_col = int(height*15),int(width*.15)\n",
    "end_row,end_col = int(height*.50),int(width*.50)\n",
    "\n",
    "crop_img  = img1[start_row:end_row,start_col:end_col]\n",
    "\n",
    "cv2.imshow(\"original image\",img1)\n",
    "cv2.waitKey(0)\n",
    "cv2.imshow(\"Cropp\",crop_img)\n",
    "cv2.waitKey(0)\n",
    "cv2.destroyAllWindows()"
   ]
  },
  {
   "cell_type": "markdown",
   "metadata": {},
   "source": [
    "# Arithmatic operation"
   ]
  },
  {
   "cell_type": "code",
   "execution_count": 2,
   "metadata": {},
   "outputs": [],
   "source": [
    "img = cv2.imread('E:/pictures/New folder/Durga.jpg')\n",
    "\n",
    "## now create a new matrix \n",
    "\n",
    "M = np.ones(img.shape, dtype = \"uint8\")*100\n",
    "\n",
    "##3 now add the matrix with the image\n",
    "added = cv2.add(img,M)\n",
    "cv2.imshow(\"added img\",added)\n",
    "\n",
    "subtracted  = cv2.subtract(img,M)\n",
    "cv2.imshow(\"sub\",subtracted)\n",
    "\n",
    "cv2.waitKey(0)\n",
    "cv2.destroyAllWindows()"
   ]
  },
  {
   "cell_type": "code",
   "execution_count": 2,
   "metadata": {},
   "outputs": [],
   "source": [
    "img1 = cv2.imread(\"xy.jpg\")\n",
    "\n",
    "M = np.ones(img1.shape,dtype = \"uint8\")*55\n",
    "\n",
    "add = cv2.add(img1,M)\n",
    "cv2.imshow(\"add Img\",add)\n",
    "\n",
    "subtract = cv2.subtract(img1,M)\n",
    "cv2.imshow(\"sub\",subtract)\n",
    "\n",
    "cv2.waitKey(0)\n",
    "cv2.destroyAllWindows()"
   ]
  },
  {
   "cell_type": "markdown",
   "metadata": {},
   "source": [
    "# Bitwise Opeartion"
   ]
  },
  {
   "cell_type": "code",
   "execution_count": 10,
   "metadata": {},
   "outputs": [],
   "source": [
    "square = np.zeros((300,300),np.uint8)\n",
    "cv2.rectangle(square,(150,50),(250,250),255,-4)\n",
    "cv2.imshow(\"square\",square)\n",
    "cv2.waitKey()\n",
    "\n",
    "## make an elispse\n",
    "elipse = np.zeros((300,300),np.uint8)\n",
    "cv2.ellipse(elipse,(150,150),(150,150),30,0,180,255,-3)\n",
    "cv2.imshow(\"ellipse\",elipse)\n",
    "cv2.waitKey()\n",
    "\n",
    "cv2.destroyAllWindows()"
   ]
  },
  {
   "cell_type": "code",
   "execution_count": 11,
   "metadata": {},
   "outputs": [],
   "source": [
    "### lets mix them by bitwise operation\n",
    "\n",
    "## bitwise_and only show the intersects\n",
    "\n",
    "And = cv2.bitwise_and(square,elipse)\n",
    "cv2.imshow(\"And\",And)\n",
    "cv2.waitKey()\n",
    "\n",
    "## bitwise_or\n",
    "Or = cv2.bitwise_or(square,elipse)\n",
    "cv2.imshow(\"Or\",Or)\n",
    "cv2.waitKey()\n",
    "\n",
    "## bitwise_xor\n",
    "Xor = cv2.bitwise_xor(square,elipse)\n",
    "cv2.imshow(\"XOR\",Xor)\n",
    "cv2.waitKey()\n",
    "\n",
    "## bitwise Not\n",
    "Not = cv2.bitwise_not(square,elipse)\n",
    "cv2.imshow(\"Not\",Not)\n",
    "cv2.waitKey()\n",
    "\n",
    "cv2.destroyAllWindows()"
   ]
  },
  {
   "cell_type": "markdown",
   "metadata": {},
   "source": [
    "# Image Bluring\n",
    "\n",
    "**cv2.filter2D(image,-1,kernel_size)**"
   ]
  },
  {
   "cell_type": "code",
   "execution_count": 14,
   "metadata": {},
   "outputs": [],
   "source": [
    "## for bluring the image we use cv2.filter2D(image,-1,kernel_size)\n",
    "\n",
    "img = cv2.imread('E:/pictures/New folder/Durga.jpg')\n",
    "cv2.imshow(\"original image\",img)\n",
    "cv2.waitKey(0)\n",
    "cv2.destroyAllWindows()\n",
    "\n",
    "##lets fix the kernel size\n",
    "## creating 3*3 kernel\n",
    "kernel_size = np.ones((5,5),np.float32)/25\n",
    "\n",
    "blured_img = cv2.filter2D(img,-1,kernel_size)\n",
    "cv2.imshow(\"Blured image\",blured_img)\n",
    "cv2.waitKey()\n",
    "\n",
    "## creating another kernel 7*7\n",
    "ker_size = np.ones((7,7),np.float32)/49\n",
    "\n",
    "blur_img = cv2.filter2D(img,-1,ker_size)\n",
    "cv2.imshow(\"blur\",blur_img)\n",
    "cv2.waitKey()\n",
    "\n",
    "\n",
    "\n",
    "cv2.destroyAllWindows()"
   ]
  },
  {
   "cell_type": "code",
   "execution_count": 15,
   "metadata": {},
   "outputs": [],
   "source": [
    "# other method used in opencv for bluring image\n",
    "img = cv2.imread('E:/pictures/New folder/Durga.jpg')\n",
    "cv2.imshow(\"original image\",img)\n",
    "cv2.waitKey(0)\n",
    "\n",
    "##cv2.blur method\n",
    "blur = cv2.blur(img,(3,3))\n",
    "cv2.imshow(\"Avarage blur\",blur)\n",
    "cv2.waitKey(0)\n",
    "\n",
    "## cv2.GaussianBlur\n",
    "Gau_blur = cv2.GaussianBlur(img,(7,7),0)\n",
    "cv2.imshow(\"Gaussian Blur\",Gau_blur)\n",
    "cv2.waitKey()\n",
    "\n",
    "## cv2.medianBlur\n",
    "## take median of all value under kernel \n",
    "## and central element is replaced with the median\n",
    "Med_blur = cv2.medianBlur(img,5)\n",
    "cv2.imshow(\"Med blur\",Med_blur)\n",
    "cv2.waitKey()\n",
    "\n",
    "##cv2.bilateralFilter\n",
    "Bilate_blur = cv2.bilateralFilter(img,9,75,75)\n",
    "cv2.imshow(\"Bilateral Blur\",Bilate_blur)\n",
    "cv2.waitKey()\n",
    "\n",
    "cv2.destroyAllWindows()"
   ]
  },
  {
   "cell_type": "code",
   "execution_count": 18,
   "metadata": {},
   "outputs": [],
   "source": [
    "## Image denoising\n",
    "img = cv2.imread(\"xy.jpg\")\n",
    "dst = cv2.fastNlMeansDenoisingColored(img,None,6,6,7,21)\n",
    "cv2.imshow(\"Fast means Denoising\",dst)\n",
    "cv2.imshow(\"img\",img)\n",
    "cv2.waitKey()\n",
    "cv2.destroyAllWindows()"
   ]
  },
  {
   "cell_type": "markdown",
   "metadata": {},
   "source": [
    "# Image Sharpening"
   ]
  },
  {
   "cell_type": "code",
   "execution_count": 19,
   "metadata": {},
   "outputs": [],
   "source": [
    "img = cv2.imread(\"E:/pictures/New folder/Durga.jpg\")\n",
    "\n",
    "cv2.imshow(\"original\",img)\n",
    "\n",
    "kernel = np.array([[-1,-1,-1],\n",
    "                   [-1,9,-1],\n",
    "                   [-1,-1,-1]])\n",
    "\n",
    "sharpend = cv2.filter2D(img,-1,kernel)\n",
    "cv2.imshow(\"sharp image\",sharpend)\n",
    "\n",
    "cv2.waitKey()\n",
    "cv2.destroyAllWindows()"
   ]
  },
  {
   "cell_type": "code",
   "execution_count": 20,
   "metadata": {},
   "outputs": [],
   "source": [
    "kernel_1 = np.array([[-1,-1,-1,-1,-1],\n",
    "                     [-1,-1,-1,-1,-1],\n",
    "                     [-1,-1,25,-1,-1],\n",
    "                     [-1,-1,-1,-1,-1],\n",
    "                     [-1,-1,-1,-1,-1]])\n",
    "\n",
    "sharp = cv2.filter2D(img,-1,kernel_1)\n",
    "cv2.imshow(\"sharap\",sharp)\n",
    "cv2.waitKey()\n",
    "cv2.destroyAllWindows()"
   ]
  },
  {
   "cell_type": "code",
   "execution_count": 3,
   "metadata": {},
   "outputs": [],
   "source": [
    "img1 = cv2.imread(\"xy.jpg\")\n",
    "cv2.imshow(\"original\",img1)\n",
    "\n",
    "kernel = np.array([[-1,-1,-1],\n",
    "                   [-1,9,-1],\n",
    "                   [-1,-1,-1]])\n",
    "\n",
    "kernel_1 = np.array([[-1,-1,-1,-1,-1],\n",
    "                     [-1,-1,-1,-1,-1],\n",
    "                     [-1,-1,25,-1,-1],\n",
    "                     [-1,-1,-1,-1,-1],\n",
    "                     [-1,-1,-1,-1,-1]])\n",
    "\n",
    "sharpend = cv2.filter2D(img1,-1,kernel)\n",
    "cv2.imshow(\"sharp image\",sharpend)\n",
    "sharp = cv2.filter2D(img1,-1,kernel_1)\n",
    "cv2.imshow(\"sharap\",sharp)\n",
    "\n",
    "\n",
    "cv2.waitKey()\n",
    "cv2.destroyAllWindows()"
   ]
  },
  {
   "cell_type": "markdown",
   "metadata": {},
   "source": [
    "# Thresholding\n",
    "\n",
    "**cv2.threshold(image,threshold value,max value,threshold type)¶**\n",
    "\n",
    "\n",
    "* **cv2.THRESH_BINARY**: If pixel intensity is greater than the set threshold, value set to 255, else set to 0 (black).\n",
    "* **cv2.THRESH_BINARY_INV**: Inverted or Opposite case of cv2.THRESH_BINARY.\n",
    "* **cv2.THRESH_TRUNC**: If pixel intensity value is greater than threshold, it is truncated to the threshold. The pixel values are set to be the same as the threshold. All other values remain the same.\n",
    "* **cv2.THRESH_TOZERO**: Pixel intensity is set to 0, for all the pixels intensity, less than the threshold value.\n",
    "* **cv2.THRESH_TOZERO_INV**: Inverted or Opposite case of cv2.THRESH_TOZERO.\n",
    " "
   ]
  },
  {
   "cell_type": "code",
   "execution_count": 3,
   "metadata": {},
   "outputs": [],
   "source": [
    "img = cv2.imread('E:/pictures/New folder/Durga.jpg')\n",
    "cv2.imshow(\"original image\",img)\n",
    "\n",
    "ret,thresh_1 = cv2.threshold(img,127,255,cv2.THRESH_BINARY)\n",
    "cv2.imshow(\"threshold_1\",thresh_1)\n",
    "\n",
    "ret,thresh_2 = cv2.threshold(img,127,255,cv2.THRESH_BINARY_INV)\n",
    "cv2.imshow(\"threshold_2\",thresh_2)\n",
    "\n",
    "ret,thresh_3 = cv2.threshold(img,127,255,cv2.THRESH_TRUNC)\n",
    "cv2.imshow(\"threshold_3\",thresh_3)\n",
    "\n",
    "ret,thresh_4 = cv2.threshold(img,127,255,cv2.THRESH_TOZERO)\n",
    "cv2.imshow(\"thresh_4\",thresh_4)\n",
    "\n",
    "ret,thresh_5 = cv2.threshold(img,127,255,cv2.THRESH_TOZERO_INV)\n",
    "cv2.imshow(\"thresh_5\",thresh_5)\n",
    "\n",
    "cv2.waitKey()\n",
    "cv2.destroyAllWindows()"
   ]
  },
  {
   "cell_type": "code",
   "execution_count": 4,
   "metadata": {},
   "outputs": [],
   "source": [
    "img1 = cv2.imread(\"xy.jpg\")\n",
    "resized = cv2.resize(img1,(400,400),interpolation = cv2.INTER_CUBIC)\n",
    "\n",
    "ret,thresh1 = cv2.threshold(resized,150,250,cv2.THRESH_BINARY)\n",
    "cv2.imshow(\"threshold_1\",thresh1)\n",
    "\n",
    "ret,thresh2 = cv2.threshold(resized,150,250,cv2.THRESH_BINARY_INV)\n",
    "cv2.imshow(\"threshold_2\",thresh2)\n",
    "\n",
    "ret,thresh3 = cv2.threshold(resized,150,250,cv2.THRESH_TRUNC)\n",
    "cv2.imshow(\"threshold_3\",thresh3)\n",
    "\n",
    "ret,thresh4 = cv2.threshold(resized,150,250,cv2.THRESH_TOZERO)\n",
    "cv2.imshow(\"threshold_4\",thresh4)\n",
    "\n",
    "ret,thresh5 = cv2.threshold(resized,150,250,cv2.THRESH_TOZERO_INV)\n",
    "cv2.imshow(\"threshold_5\",thresh5)\n",
    "\n",
    "cv2.waitKey()\n",
    "cv2.destroyAllWindows()"
   ]
  },
  {
   "cell_type": "markdown",
   "metadata": {},
   "source": [
    "# Adaptive Threshold\n",
    "\n",
    "**cv2.adaptiveThreshold(source, maxVal, adaptiveMethod, thresholdType, blocksize, constant)**"
   ]
  },
  {
   "cell_type": "code",
   "execution_count": 25,
   "metadata": {},
   "outputs": [],
   "source": [
    "img = cv2.imread(\"xy.jpg\",0)\n",
    "#img_g = cv2.cvtColor(img,0)\n",
    "\n",
    "resized = cv2.resize(img,(400,400),interpolation = cv2.INTER_CUBIC)\n",
    "\n",
    "thresh1 = cv2.adaptiveThreshold(resized,255,cv2.ADAPTIVE_THRESH_MEAN_C,cv2.THRESH_BINARY,19,5)\n",
    "cv2.imshow(\"apdaptive threshold\",thresh1)\n",
    "\n",
    "thresh2 = cv2.adaptiveThreshold(resized,255,cv2.ADAPTIVE_THRESH_GAUSSIAN_C,cv2.THRESH_BINARY,19,5)\n",
    "cv2.imshow(\"gaussian threshold\",thresh2)\n",
    "\n",
    "cv2.waitKey()\n",
    "cv2.destroyAllWindows()"
   ]
  },
  {
   "cell_type": "code",
   "execution_count": 20,
   "metadata": {},
   "outputs": [],
   "source": [
    "img = cv2.imread(\"xy.jpg\")\n",
    "\n",
    "img = cv2.resize(img,(400,400),interpolation = cv2.INTER_CUBIC)\n",
    "img = cv2.cvtColor(img, cv2.COLOR_BGR2GRAY)\n",
    "   \n",
    "# applying different thresholding \n",
    "# techniques on the input image\n",
    "thresh1 = cv2.adaptiveThreshold(img, 255, cv2.ADAPTIVE_THRESH_MEAN_C,cv2.THRESH_BINARY, 199, 5)\n",
    "  \n",
    "thresh2 = cv2.adaptiveThreshold(img, 255, cv2.ADAPTIVE_THRESH_GAUSSIAN_C,cv2.THRESH_BINARY, 199, 5)\n",
    "  \n",
    "# the window showing output images\n",
    "# with the corresponding thresholding \n",
    "# techniques applied to the input image\n",
    "cv2.imshow(\"img\",img)\n",
    "cv2.imshow('Adaptive Mean', thresh1)\n",
    "cv2.imshow('Adaptive Gaussian', thresh2)\n",
    "\n",
    "cv2.waitKey()\n",
    "cv2.destroyAllWindows()\n"
   ]
  },
  {
   "cell_type": "markdown",
   "metadata": {},
   "source": [
    "**Otsu Thresholding**\n",
    "\n",
    "* cv2.threshold(source, thresholdValue, maxVal, thresholdingTechnique)"
   ]
  },
  {
   "cell_type": "code",
   "execution_count": 28,
   "metadata": {},
   "outputs": [],
   "source": [
    "img1 = cv2.imread(\"xy.jpg\")\n",
    "img1 = cv2.resize(img1,(400,400),interpolation = cv2.INTER_CUBIC)\n",
    "\n",
    "# cv2.cvtColor is applied over the\n",
    "# image input with applied parameters\n",
    "# to convert the image in grayscale\n",
    "img1 = cv2.cvtColor(img1, cv2.COLOR_BGR2GRAY)\n",
    "  \n",
    "# applying Otsu thresholding\n",
    "# as an extra flag in binary \n",
    "# thresholding     \n",
    "ret, thresh1 = cv2.threshold(img1, 120, 255, cv2.THRESH_BINARY + cv2.THRESH_OTSU)     \n",
    "  \n",
    "# the window showing output image         \n",
    "# with the corresponding thresholding         \n",
    "# techniques applied to the input image    \n",
    "cv2.imshow('Otsu Threshold', thresh1)\n",
    "\n",
    "cv2.waitKey()\n",
    "cv2.destroyAllWindows()"
   ]
  },
  {
   "cell_type": "code",
   "execution_count": null,
   "metadata": {},
   "outputs": [],
   "source": []
  }
 ],
 "metadata": {
  "kernelspec": {
   "display_name": "tf-gpu",
   "language": "python",
   "name": "tf-gpu"
  },
  "language_info": {
   "codemirror_mode": {
    "name": "ipython",
    "version": 3
   },
   "file_extension": ".py",
   "mimetype": "text/x-python",
   "name": "python",
   "nbconvert_exporter": "python",
   "pygments_lexer": "ipython3",
   "version": "3.7.6"
  }
 },
 "nbformat": 4,
 "nbformat_minor": 2
}
