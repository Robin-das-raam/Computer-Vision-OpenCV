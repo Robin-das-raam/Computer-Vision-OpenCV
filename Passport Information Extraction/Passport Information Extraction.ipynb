{
 "cells": [
  {
   "cell_type": "code",
   "execution_count": 10,
   "id": "b29da441",
   "metadata": {},
   "outputs": [
    {
     "name": "stderr",
     "output_type": "stream",
     "text": [
      "CUDA not available - defaulting to CPU. Note: This module is much faster with a GPU.\n"
     ]
    }
   ],
   "source": [
    "import os\n",
    "import easyocr\n",
    "import cv2\n",
    "import re\n",
    "reader = easyocr.Reader([\"en\"])"
   ]
  },
  {
   "cell_type": "code",
   "execution_count": 34,
   "id": "68f16a52",
   "metadata": {},
   "outputs": [],
   "source": [
    "def passport_no(str):\n",
    "    patt = \"\\d{8}|d{9}|\\w{2}\\d{6}|\\w{2}\\d{7}|\\w{3}\\d{5}|\\w{3}\\d{6}\"\n",
    "    pass_no = re.findall(patt,str)\n",
    "    \n",
    "    return pass_no[0]"
   ]
  },
  {
   "cell_type": "code",
   "execution_count": 39,
   "id": "695d8ee6",
   "metadata": {},
   "outputs": [],
   "source": [
    "def extract_info(img_path):\n",
    "    img = cv2.imread(img_path)\n",
    "    all_text = []\n",
    "\n",
    "    result = reader.readtext(img,paragraph=False)\n",
    "\n",
    "    for (bbox,text,prob) in result:\n",
    "        (t1,tr,br,b1) = bbox\n",
    "\n",
    "        t1 = (int(t1[0]), int(t1[1]))\n",
    "        tr = (int(tr[0]), int(tr[1]))\n",
    "        br = (int(br[0]), int(br[0]))\n",
    "        b1 = (int(b1[0]), int(b1[1]))\n",
    "    \n",
    "        #Remove non-ASCII characters to display clean text on the image\n",
    "        text = \"\".join([c if ord(c) < 128 else \"\" for c in text]).strip()\n",
    "        all_text.append(text)\n",
    "        \n",
    "    all_info = {}\n",
    "    \n",
    "    extracted_text = (all_text)\n",
    "\n",
    "    raw_text = ' '.join(extracted_text)\n",
    "    \n",
    "    \n",
    "    patt = \"\\d{8}|d{9}|\\w{2}\\d{6}|\\w{2}\\d{7}|\\w{3}\\d{5}|\\w{3}\\d{6}\"\n",
    "    passport_no = re.findall(patt,raw_text)[0]\n",
    "    \n",
    "    passport_type = all_text[-2].replace(\"<\", \" \")[0]\n",
    "    \n",
    "    name_text = all_text[-2].split(passport_type)[1].replace(\"<\",\" \")\n",
    "    total_name = name_text[4:]\n",
    "\n",
    "    first_name = total_name.split(\" \")[0]\n",
    "    given_name = total_name.split(first_name)[1]\n",
    "    given_name = given_name.rstrip()\n",
    "    given_name = given_name.lstrip()\n",
    "    \n",
    "    date_pat = \"[0-9]{2} \\w{3} \\d{4}|\\d{2} \\w{3} \\d{3} \\d{1}\"\n",
    "    all_date =  re.findall(date_pat,raw_text)\n",
    "    \n",
    "    birth_date = all_date[0]\n",
    "    issue_date = all_date[1]\n",
    "    expiry_date = all_date[-1]\n",
    "    \n",
    "    nat = raw_text.split(given_name)[1]\n",
    "    nationality = nat.split(birth_date)[0]\n",
    "    nationality = nationality.rstrip()\n",
    "    nationality = nationality.lstrip()\n",
    "    \n",
    "    place = raw_text.split(birth_date)\n",
    "    birth_place = place[1].split(issue_date)[0]\n",
    "    birth_place = birth_place.lstrip()\n",
    "    birth_place = birth_place.rstrip()\n",
    "    \n",
    "    \n",
    "    \n",
    "    all_info[\"Passport No\"] = passport_no\n",
    "    all_info[\"passport type\"] = passport_type\n",
    "    all_info[\"Surname\"] = first_name\n",
    "    all_info[\"Given Name\"] = given_name\n",
    "    all_info[\"Date Of Birth\"] = birth_date\n",
    "    all_info[\"Date Of Isuue\"] = issue_date\n",
    "    all_info[\"Date Of Expiry\"] = expiry_date\n",
    "    all_info[\"Place Of Birth\"] = birth_place\n",
    "    all_info[\"Nationality\"] = nationality\n",
    "    \n",
    "    return all_info\n"
   ]
  },
  {
   "cell_type": "code",
   "execution_count": 40,
   "id": "f21daad4",
   "metadata": {},
   "outputs": [
    {
     "data": {
      "text/plain": [
       "{'Passport No': 'LDQ01148',\n",
       " 'passport type': 'P',\n",
       " 'Surname': 'WhAKAATURANGA',\n",
       " 'Given Name': 'FRED WIREMU John',\n",
       " 'Date Of Birth': '28 FEB 1964',\n",
       " 'Date Of Isuue': '05 oct 2009',\n",
       " 'Date Of Expiry': '05 oct 201 4',\n",
       " 'Place Of Birth': 'TAIHAPE',\n",
       " 'Nationality': 'NEW ZEALAND Fan -'}"
      ]
     },
     "execution_count": 40,
     "metadata": {},
     "output_type": "execute_result"
    }
   ],
   "source": [
    "extract_info(\"nzpassport.png\")"
   ]
  },
  {
   "cell_type": "code",
   "execution_count": 27,
   "id": "d3ba8fdb",
   "metadata": {},
   "outputs": [],
   "source": []
  },
  {
   "cell_type": "code",
   "execution_count": null,
   "id": "408c17c6",
   "metadata": {},
   "outputs": [],
   "source": []
  }
 ],
 "metadata": {
  "kernelspec": {
   "display_name": "python3.7_env",
   "language": "python",
   "name": "python3.7_env"
  },
  "language_info": {
   "codemirror_mode": {
    "name": "ipython",
    "version": 3
   },
   "file_extension": ".py",
   "mimetype": "text/x-python",
   "name": "python",
   "nbconvert_exporter": "python",
   "pygments_lexer": "ipython3",
   "version": "3.8.10"
  }
 },
 "nbformat": 4,
 "nbformat_minor": 5
}
