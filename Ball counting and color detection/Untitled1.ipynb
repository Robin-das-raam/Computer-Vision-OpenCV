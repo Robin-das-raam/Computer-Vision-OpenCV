{
 "cells": [
  {
   "cell_type": "code",
   "execution_count": 2,
   "id": "3f62c4e3",
   "metadata": {},
   "outputs": [],
   "source": [
    "import cv2\n",
    "import numpy as np\n",
    "# Reading the image\n",
    "img = cv2.imread('unnamed.png')\n",
    "\n",
    "# convert to hsv colorspace\n",
    "hsv = cv2.cvtColor(img, cv2.COLOR_BGR2HSV)\n",
    "\n",
    "# lower bound and upper bound for Green color\n",
    "lower_bound = np.array([0, 0, 0])   \n",
    "upper_bound = np.array([255, 255, 255])\n",
    "\n",
    "# find the colors within the boundaries\n",
    "mask = cv2.inRange(hsv, lower_bound, upper_bound)\n",
    "\n",
    "#define kernel size  \n",
    "kernel = np.ones((7,7),np.uint8)\n",
    "\n",
    "# Remove unnecessary noise from mask\n",
    "mask = cv2.morphologyEx(mask, cv2.MORPH_CLOSE, kernel)\n",
    "mask = cv2.morphologyEx(mask, cv2.MORPH_OPEN, kernel)\n",
    "\n",
    "# Segment only the detected region\n",
    "segmented_img = cv2.bitwise_and(img, img, mask=mask)\n",
    "\n",
    "# Find contours from the mask\n",
    "contours, hierarchy = cv2.findContours(mask.copy(), cv2.RETR_EXTERNAL, cv2.CHAIN_APPROX_SIMPLE)\n",
    "output = cv2.drawContours(segmented_img, contours, -1, (0, 0, 255), 3)\n",
    "# Showing the output\n",
    "cv2.imshow(\"Output\", output)\n",
    "cv2.waitKey(0)\n",
    "cv2.destroyAllWindows()"
   ]
  },
  {
   "cell_type": "code",
   "execution_count": 1,
   "id": "bbfe87d1",
   "metadata": {},
   "outputs": [],
   "source": [
    "import cv2\n",
    "\n",
    "cap = cv2.VideoCapture(0)\n",
    "\n",
    "#frame = cv2.imread(\"screen-0.webp\")\n",
    "while True:\n",
    "    ret,frame = cap.read()\n",
    "    hsv = cv2.cvtColor(frame, cv2.COLOR_BGR2HSV)\n",
    "    #frame = cv2.resize(frame,(700,700))\n",
    "    cv2.rectangle(frame,(250,450),(350,300),(255,255,255),2)\n",
    "    cen_x,cen_y = int((250+350)/2), int((450+300)/2)\n",
    "    #cv2.rectangle(frame,(250,450),(350,300),(255,0,0))\n",
    "    cv2.circle(frame,(cen_x,cen_y),4,(0,255,0),3)\n",
    "    \n",
    "    \n",
    "#     blcolor = (255, 0, 0)\n",
    "#     cv2.rectangle(frame,(250,450),(350,300), blcolor)\n",
    "#     cv2.circle(frame,bbox_cen,4,(0,255,0),3)\n",
    "    \n",
    "#     hsv = cv2.cvtColor(roiColor,cv2.COLOR_BGR2HSV) \n",
    "\n",
    "#     #red \n",
    "#     lower_hsv_red = np.array([157,177,122]) \n",
    "#     upper_hsv_red = np.array([179,255,255]) \n",
    "#     mask_red = cv2.inRange(hsv,lowerb=lower_hsv_red,upperb=upper_hsv_red) \n",
    "#     red_blur = cv2.medianBlur(mask_red, 7) \n",
    "    \n",
    "#     #green \n",
    "#     lower_hsv_green = np.array([25, 52, 72])\n",
    "#     upper_hsv_green = np.array([86, 255, 255])\n",
    "#     mask_green = cv2.inRange(hsv,lowerb=lower_hsv_green,upperb=upper_hsv_green) \n",
    "#     green_blur = cv2.medianBlur(mask_green, 7) \n",
    "\n",
    "    cv2.imshow(\"frame\",frame)\n",
    "    c = cv2.waitKey(1) \n",
    "    if c==27: \n",
    "        break\n",
    "    \n",
    "cap.release()\n",
    "cv2.destroyAllWindows()"
   ]
  },
  {
   "cell_type": "code",
   "execution_count": 7,
   "id": "dfbf7f44",
   "metadata": {},
   "outputs": [],
   "source": [
    "cen_x,cen_y = ((250+350)/2), ((450+300)/2)"
   ]
  },
  {
   "cell_type": "code",
   "execution_count": 8,
   "id": "a8cf6d44",
   "metadata": {},
   "outputs": [
    {
     "data": {
      "text/plain": [
       "300.0"
      ]
     },
     "execution_count": 8,
     "metadata": {},
     "output_type": "execute_result"
    }
   ],
   "source": [
    "cen_x"
   ]
  },
  {
   "cell_type": "code",
   "execution_count": 2,
   "id": "cfab5f78",
   "metadata": {},
   "outputs": [],
   "source": [
    "def do_nothing():\n",
    "    pass\n",
    "\n",
    "# create slider here\n",
    "cv2.namedWindow(\"Slider\")\n",
    "cv2.resizeWindow(\"Slider\", 640, 480)\n",
    "cv2.createTrackbar(\"Hue Min\", \"Slider\", 0, 255, do_nothing)\n",
    "cv2.createTrackbar(\"Hue Max\", \"Slider\", 0, 255, do_nothing)\n",
    "cv2.createTrackbar(\"Saturation Min\", \"Slider\", 0, 255, do_nothing)\n",
    "cv2.createTrackbar(\"Saturation Max\", \"Slider\", 0, 255, do_nothing)\n",
    "cv2.createTrackbar(\"Value Min\", \"Slider\", 0, 255, do_nothing)\n",
    "cv2.createTrackbar(\"Value Max\", \"Slider\", 0, 255, do_nothing)"
   ]
  },
  {
   "cell_type": "code",
   "execution_count": null,
   "id": "1747f4f1",
   "metadata": {},
   "outputs": [],
   "source": []
  }
 ],
 "metadata": {
  "kernelspec": {
   "display_name": "python3.7_env",
   "language": "python",
   "name": "python3.7_env"
  },
  "language_info": {
   "codemirror_mode": {
    "name": "ipython",
    "version": 3
   },
   "file_extension": ".py",
   "mimetype": "text/x-python",
   "name": "python",
   "nbconvert_exporter": "python",
   "pygments_lexer": "ipython3",
   "version": "3.8.10"
  }
 },
 "nbformat": 4,
 "nbformat_minor": 5
}
